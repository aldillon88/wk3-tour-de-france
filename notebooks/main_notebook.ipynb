{
 "cells": [
  {
   "cell_type": "code",
   "execution_count": 1,
   "id": "fbf09ec8-6ccc-4787-b75f-8d6c5a892ba8",
   "metadata": {},
   "outputs": [],
   "source": [
    "import pandas as pd\n",
    "from functions import trim_and_lower"
   ]
  },
  {
   "cell_type": "code",
   "execution_count": 7,
   "id": "5d3cd1c5-c44a-429f-9d04-6af92d53db5f",
   "metadata": {},
   "outputs": [
    {
     "name": "stdout",
     "output_type": "stream",
     "text": [
      "(109, 6)\n"
     ]
    },
    {
     "data": {
      "text/plain": [
       "array([1903, 1904, 1905, 1906, 1907, 1908, 1909, 1910, 1911, 1912, 1913,\n",
       "       1914, 1919, 1920, 1921, 1922, 1923, 1924, 1925, 1926, 1927, 1928,\n",
       "       1929, 1930, 1931, 1932, 1933, 1934, 1935, 1936, 1937, 1938, 1939,\n",
       "       1947, 1948, 1949, 1950, 1951, 1952, 1953, 1954, 1955, 1956, 1957,\n",
       "       1958, 1959, 1960, 1961, 1962, 1963, 1964, 1965, 1966, 1967, 1968,\n",
       "       1969, 1970, 1971, 1972, 1973, 1974, 1975, 1976, 1977, 1978, 1979,\n",
       "       1980, 1981, 1982, 1983, 1984, 1985, 1986, 1987, 1988, 1989, 1990,\n",
       "       1991, 1992, 1993, 1994, 1995, 1996, 1997, 1998, 1999, 2000, 2001,\n",
       "       2002, 2003, 2004, 2005, 2006, 2007, 2008, 2009, 2010, 2011, 2012,\n",
       "       2013, 2014, 2015, 2016, 2017, 2018, 2019, 2020, 2021, 2022])"
      ]
     },
     "execution_count": 7,
     "metadata": {},
     "output_type": "execute_result"
    }
   ],
   "source": [
    "tours_path = \"../data/clean/tours.csv\"\n",
    "tours_df = pd.read_csv(tours_path)\n",
    "tours_df = trim_and_lower(tours_df)\n",
    "tours_df = tours_df.set_index(\"year\", drop=False)\n",
    "tours_df.head()\n",
    "tours_df.dtypes\n",
    "print(tours_df.shape)\n",
    "tours_df.year.unique()"
   ]
  },
  {
   "cell_type": "code",
   "execution_count": 8,
   "id": "30449c16-82ae-435e-a237-2e8e9aac966c",
   "metadata": {},
   "outputs": [
    {
     "name": "stdout",
     "output_type": "stream",
     "text": [
      "(102, 11)\n"
     ]
    },
    {
     "data": {
      "text/plain": [
       "array([1903, 1904, 1905, 1906, 1907, 1908, 1909, 1910, 1911, 1912, 1913,\n",
       "       1914, 1919, 1920, 1921, 1922, 1923, 1924, 1925, 1926, 1927, 1928,\n",
       "       1929, 1930, 1931, 1932, 1933, 1934, 1935, 1936, 1937, 1938, 1939,\n",
       "       1947, 1948, 1949, 1950, 1951, 1952, 1953, 1954, 1955, 1956, 1957,\n",
       "       1958, 1959, 1960, 1961, 1962, 1963, 1964, 1965, 1966, 1967, 1968,\n",
       "       1969, 1970, 1971, 1972, 1973, 1974, 1975, 1976, 1977, 1978, 1979,\n",
       "       1980, 1981, 1982, 1983, 1984, 1985, 1986, 1987, 1988, 1989, 1990,\n",
       "       1991, 1992, 1993, 1994, 1995, 1996, 1997, 1998, 2006, 2007, 2008,\n",
       "       2009, 2010, 2011, 2012, 2013, 2014, 2015, 2016, 2017, 2018, 2019,\n",
       "       2020, 2021, 2022])"
      ]
     },
     "execution_count": 8,
     "metadata": {},
     "output_type": "execute_result"
    }
   ],
   "source": [
    "winners_path = \"../data/clean/winners.csv\"\n",
    "winners_df = pd.read_csv(winners_path)\n",
    "winners_df = trim_and_lower(winners_df)\n",
    "winners_df = winners_df.set_index(\"year\", drop=False)\n",
    "winners_df.head()\n",
    "winners_df.dtypes\n",
    "print(winners_df.shape)\n",
    "winners_df.year.unique() # winners_df is missing years 1999-2005"
   ]
  },
  {
   "cell_type": "code",
   "execution_count": 10,
   "id": "67439398-aa0a-4454-9fb2-e39e0520357d",
   "metadata": {},
   "outputs": [
    {
     "data": {
      "text/html": [
       "<div>\n",
       "<style scoped>\n",
       "    .dataframe tbody tr th:only-of-type {\n",
       "        vertical-align: middle;\n",
       "    }\n",
       "\n",
       "    .dataframe tbody tr th {\n",
       "        vertical-align: top;\n",
       "    }\n",
       "\n",
       "    .dataframe thead th {\n",
       "        text-align: right;\n",
       "    }\n",
       "</style>\n",
       "<table border=\"1\" class=\"dataframe\">\n",
       "  <thead>\n",
       "    <tr style=\"text-align: right;\">\n",
       "      <th></th>\n",
       "      <th>year</th>\n",
       "      <th>stages</th>\n",
       "      <th>starters</th>\n",
       "      <th>finishers</th>\n",
       "      <th>miles</th>\n",
       "      <th>km</th>\n",
       "      <th>year_x</th>\n",
       "      <th>country</th>\n",
       "      <th>rider</th>\n",
       "      <th>team</th>\n",
       "      <th>time</th>\n",
       "      <th>stages_won</th>\n",
       "      <th>stages_led</th>\n",
       "      <th>height</th>\n",
       "      <th>weight</th>\n",
       "      <th>born</th>\n",
       "      <th>age</th>\n",
       "    </tr>\n",
       "    <tr>\n",
       "      <th>year</th>\n",
       "      <th></th>\n",
       "      <th></th>\n",
       "      <th></th>\n",
       "      <th></th>\n",
       "      <th></th>\n",
       "      <th></th>\n",
       "      <th></th>\n",
       "      <th></th>\n",
       "      <th></th>\n",
       "      <th></th>\n",
       "      <th></th>\n",
       "      <th></th>\n",
       "      <th></th>\n",
       "      <th></th>\n",
       "      <th></th>\n",
       "      <th></th>\n",
       "      <th></th>\n",
       "    </tr>\n",
       "  </thead>\n",
       "  <tbody>\n",
       "    <tr>\n",
       "      <th>1903</th>\n",
       "      <td>1903</td>\n",
       "      <td>6</td>\n",
       "      <td>60</td>\n",
       "      <td>21</td>\n",
       "      <td>1509.0</td>\n",
       "      <td>2428.0</td>\n",
       "      <td>1903.0</td>\n",
       "      <td>france</td>\n",
       "      <td>maurice garin</td>\n",
       "      <td>la française</td>\n",
       "      <td>[94, 33, 14]</td>\n",
       "      <td>3.0</td>\n",
       "      <td>6.0</td>\n",
       "      <td>1.62</td>\n",
       "      <td>60.0</td>\n",
       "      <td>1871.0</td>\n",
       "      <td>32.0</td>\n",
       "    </tr>\n",
       "    <tr>\n",
       "      <th>1904</th>\n",
       "      <td>1904</td>\n",
       "      <td>6</td>\n",
       "      <td>88</td>\n",
       "      <td>15</td>\n",
       "      <td>1509.0</td>\n",
       "      <td>2428.0</td>\n",
       "      <td>1904.0</td>\n",
       "      <td>france</td>\n",
       "      <td>henri cornet</td>\n",
       "      <td>conte</td>\n",
       "      <td>[96, 5, 55]</td>\n",
       "      <td>1.0</td>\n",
       "      <td>3.0</td>\n",
       "      <td>1.86</td>\n",
       "      <td>62.0</td>\n",
       "      <td>1884.0</td>\n",
       "      <td>20.0</td>\n",
       "    </tr>\n",
       "    <tr>\n",
       "      <th>1905</th>\n",
       "      <td>1905</td>\n",
       "      <td>11</td>\n",
       "      <td>60</td>\n",
       "      <td>24</td>\n",
       "      <td>1860.0</td>\n",
       "      <td>2994.0</td>\n",
       "      <td>1905.0</td>\n",
       "      <td>france</td>\n",
       "      <td>louis trousselier</td>\n",
       "      <td>peugeot–wolber</td>\n",
       "      <td>[0, 0, 0]</td>\n",
       "      <td>5.0</td>\n",
       "      <td>10.0</td>\n",
       "      <td>1.86</td>\n",
       "      <td>62.0</td>\n",
       "      <td>1881.0</td>\n",
       "      <td>24.0</td>\n",
       "    </tr>\n",
       "    <tr>\n",
       "      <th>1906</th>\n",
       "      <td>1906</td>\n",
       "      <td>13</td>\n",
       "      <td>82</td>\n",
       "      <td>14</td>\n",
       "      <td>2881.0</td>\n",
       "      <td>4637.0</td>\n",
       "      <td>1906.0</td>\n",
       "      <td>france</td>\n",
       "      <td>rené pottier</td>\n",
       "      <td>peugeot–wolber</td>\n",
       "      <td>[0, 0, 0]</td>\n",
       "      <td>5.0</td>\n",
       "      <td>12.0</td>\n",
       "      <td>1.86</td>\n",
       "      <td>62.0</td>\n",
       "      <td>1879.0</td>\n",
       "      <td>27.0</td>\n",
       "    </tr>\n",
       "    <tr>\n",
       "      <th>1907</th>\n",
       "      <td>1907</td>\n",
       "      <td>14</td>\n",
       "      <td>93</td>\n",
       "      <td>33</td>\n",
       "      <td>2789.0</td>\n",
       "      <td>4488.0</td>\n",
       "      <td>1907.0</td>\n",
       "      <td>france</td>\n",
       "      <td>lucien petit-breton</td>\n",
       "      <td>peugeot–wolber</td>\n",
       "      <td>[0, 0, 0]</td>\n",
       "      <td>2.0</td>\n",
       "      <td>5.0</td>\n",
       "      <td>1.86</td>\n",
       "      <td>62.0</td>\n",
       "      <td>1882.0</td>\n",
       "      <td>25.0</td>\n",
       "    </tr>\n",
       "  </tbody>\n",
       "</table>\n",
       "</div>"
      ],
      "text/plain": [
       "      year  stages  starters  finishers   miles      km  year_x country  \\\n",
       "year                                                                      \n",
       "1903  1903       6        60         21  1509.0  2428.0  1903.0  france   \n",
       "1904  1904       6        88         15  1509.0  2428.0  1904.0  france   \n",
       "1905  1905      11        60         24  1860.0  2994.0  1905.0  france   \n",
       "1906  1906      13        82         14  2881.0  4637.0  1906.0  france   \n",
       "1907  1907      14        93         33  2789.0  4488.0  1907.0  france   \n",
       "\n",
       "                    rider            team          time  stages_won  \\\n",
       "year                                                                  \n",
       "1903        maurice garin    la française  [94, 33, 14]         3.0   \n",
       "1904         henri cornet           conte   [96, 5, 55]         1.0   \n",
       "1905    louis trousselier  peugeot–wolber     [0, 0, 0]         5.0   \n",
       "1906         rené pottier  peugeot–wolber     [0, 0, 0]         5.0   \n",
       "1907  lucien petit-breton  peugeot–wolber     [0, 0, 0]         2.0   \n",
       "\n",
       "      stages_led  height  weight    born   age  \n",
       "year                                            \n",
       "1903         6.0    1.62    60.0  1871.0  32.0  \n",
       "1904         3.0    1.86    62.0  1884.0  20.0  \n",
       "1905        10.0    1.86    62.0  1881.0  24.0  \n",
       "1906        12.0    1.86    62.0  1879.0  27.0  \n",
       "1907         5.0    1.86    62.0  1882.0  25.0  "
      ]
     },
     "execution_count": 10,
     "metadata": {},
     "output_type": "execute_result"
    }
   ],
   "source": [
    "df = tours_df.join(winners_df, how=\"left\", rsuffix=\"_x\")\n",
    "df.head()"
   ]
  },
  {
   "cell_type": "code",
   "execution_count": 13,
   "id": "779bee53-f732-432a-a2ec-deda6f72c224",
   "metadata": {},
   "outputs": [
    {
     "data": {
      "text/plain": [
       "7"
      ]
     },
     "execution_count": 13,
     "metadata": {},
     "output_type": "execute_result"
    }
   ],
   "source": [
    "df.year_x.isna().sum()"
   ]
  }
 ],
 "metadata": {
  "kernelspec": {
   "display_name": "venv",
   "language": "python",
   "name": "venv"
  },
  "language_info": {
   "codemirror_mode": {
    "name": "ipython",
    "version": 3
   },
   "file_extension": ".py",
   "mimetype": "text/x-python",
   "name": "python",
   "nbconvert_exporter": "python",
   "pygments_lexer": "ipython3",
   "version": "3.11.7"
  }
 },
 "nbformat": 4,
 "nbformat_minor": 5
}
